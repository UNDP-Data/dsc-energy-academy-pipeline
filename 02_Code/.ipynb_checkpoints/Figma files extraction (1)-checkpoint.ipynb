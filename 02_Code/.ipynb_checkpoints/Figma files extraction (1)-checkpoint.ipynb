{
 "cells": [
  {
   "cell_type": "markdown",
   "metadata": {},
   "source": [
    "# This code retrieves templates/frames built from figma using Figma API and save them in a .json file and .csv file"
   ]
  },
  {
   "cell_type": "code",
   "execution_count": 1,
   "metadata": {},
   "outputs": [],
   "source": [
    "#pip install python-dotenv"
   ]
  },
  {
   "cell_type": "code",
   "execution_count": 2,
   "metadata": {},
   "outputs": [],
   "source": [
    "#import nececessary libraries\n",
    "import requests\n",
    "import json\n",
    "import csv\n",
    "import os\n",
    "import re\n",
    "import time  # For adding delays between requests\n",
    "from dotenv import load_dotenv # for accessing the api key in .env file\n",
    "\n",
    "# Load environment variables from the .env file\n",
    "load_dotenv()\n",
    "\n",
    "# Access the API key\n",
    "API_TOKEN = os.getenv('FIGMA_API_KEY')\n",
    "\n",
    "# Figma API URL template\n",
    "FIGMA_API_URL_TEMPLATE = 'https://api.figma.com/v1/files/{}'\n",
    "\n",
    "# Headers for the API request\n",
    "headers = {\n",
    "    'X-Figma-Token': API_TOKEN\n",
    "}\n",
    "\n",
    "# Base URL for the GitHub repository to fetch inputs (images and graphics)\n",
    "GITHUB_BASE_URL = 'https://raw.githubusercontent.com/UNDP-Data/dsc-energy-academy-pipeline/main/03_Inputs/'"
   ]
  },
  {
   "cell_type": "markdown",
   "metadata": {},
   "source": [
    "### Extracting the module number of the file"
   ]
  },
  {
   "cell_type": "code",
   "execution_count": 3,
   "metadata": {},
   "outputs": [],
   "source": [
    "def extract_module_number(module_name):\n",
    "    # Look for a pattern like \"module X\" or just a number in the module name\n",
    "    match = re.search(r'\\d+', module_name)\n",
    "    if match:\n",
    "        return match.group(0)  # Return the module number as a string\n",
    "    return None  # Return None if no module number is found\n"
   ]
  },
  {
   "cell_type": "markdown",
   "metadata": {},
   "source": [
    "### Retrieving the font sizes and tags of each text in the frame"
   ]
  },
  {
   "cell_type": "code",
   "execution_count": 4,
   "metadata": {},
   "outputs": [
    {
     "data": {
      "text/plain": [
       "\"\\nThe input parameter is font size (integer). The function should return the appropriate header tag.\\nExample input: 32, 24, 20, 16, 14\\nExpected output: 'h1', 'h2', 'h3', 'h4', 'h5', 'h6'\\n\""
      ]
     },
     "execution_count": 4,
     "metadata": {},
     "output_type": "execute_result"
    }
   ],
   "source": [
    "# Function to determine the appropriate header tag based on font size\n",
    "def determine_header_tag(font_size):\n",
    "    if font_size >= 32:\n",
    "        return 'h1'\n",
    "    elif 24 <= font_size < 32:\n",
    "        return 'h2'\n",
    "    elif 20 <= font_size < 24:\n",
    "        return 'h3'\n",
    "    elif 16 <= font_size < 20:\n",
    "        return 'h4'\n",
    "    elif 14 <= font_size < 16:\n",
    "        return 'h5'\n",
    "    else:\n",
    "        return 'h6'\n",
    "#Test Case\n",
    "\"\"\"\n",
    "The input parameter is font size (integer). The function should return the appropriate header tag.\n",
    "Example input: 32, 24, 20, 16, 14\n",
    "Expected output: 'h1', 'h2', 'h3', 'h4', 'h5', 'h6'\n",
    "\"\"\"\n",
    "\n",
    "# # Example test (uncomment to test)\n",
    "# font_size_1 = 50\n",
    "# font_size_2 = 24\n",
    "# font_size_3 = 20\n",
    "# font_size_4 = 16\n",
    "# font_size_5 = 14\n",
    "\n",
    "# print(f\"Header tag for font size {font_size_1}: {determine_header_tag(font_size_1)}\")  # Expected output: 'h1'\n",
    "# print(f\"Header tag for font size {font_size_2}: {determine_header_tag(font_size_2)}\")  # Expected output: 'h2'\n",
    "# print(f\"Header tag for font size {font_size_3}: {determine_header_tag(font_size_3)}\")  # Expected output: 'h3'\n",
    "# print(f\"Header tag for font size {font_size_4}: {determine_header_tag(font_size_4)}\")  # Expected output: 'h4'\n",
    "# print(f\"Header tag for font size {font_size_5}: {determine_header_tag(font_size_5)}\")  # Expected output: 'h5'    "
   ]
  },
  {
   "cell_type": "markdown",
   "metadata": {},
   "source": [
    "### Differentiate template types either Text, Text-image or Image"
   ]
  },
  {
   "cell_type": "code",
   "execution_count": 5,
   "metadata": {},
   "outputs": [
    {
     "data": {
      "text/plain": [
       "\"\\nThe input is a Figma frame (a dictionary containing 'children' nodes), each child may be a TEXT, IMAGE, VECTOR, or RECTANGLE.\\nThe function determines the template type of the frame based on its content.\\nExample input: Frame with text only, Frame with image only, Frame with both text and image, Frame with vector or rectangle\\nExpected output: 'Text', 'Photo', 'Text-Image', or 'Unknown' Vectors and rectangles are ignored. \\n\""
      ]
     },
     "execution_count": 5,
     "metadata": {},
     "output_type": "execute_result"
    }
   ],
   "source": [
    "# Function to determine the template type based on frame content\n",
    "def determine_template_type(frame):\n",
    "    contains_text = False\n",
    "    contains_image = False\n",
    "    label_like_text_only = True  # Assume the text is a label by default\n",
    "\n",
    "    for node in frame['children']:\n",
    "        if node['type'] == 'TEXT':\n",
    "            text = node.get('characters', '').strip()\n",
    "            # Check if the text is more than a label (like image_1 or graph_1)\n",
    "            if re.search(r'image_\\d+|graph_\\d+', text):\n",
    "                continue  # Ignore label-like text\n",
    "            elif len(text) > 0:  # Consider non-empty and non-label text as real text\n",
    "                contains_text = True  # Regular text, not a label\n",
    "                label_like_text_only = False\n",
    "        \n",
    "        # First, check if the node's name contains 'ignore_rect' and skip it\n",
    "        if 'ignore_rect' in node.get('name', '').lower():\n",
    "            continue\n",
    "\n",
    "        # Then, check if the node is an IMAGE, VECTOR, or RECTANGLE\n",
    "        if node['type'] in ['IMAGE', 'VECTOR', 'RECTANGLE']:\n",
    "            contains_image = True  # Only mark this if it's not ignored\n",
    "\n",
    "    # Determine template type based on whether the frame contains real text or just label-like text\n",
    "    if contains_image and label_like_text_only:  # Only label-like text and image\n",
    "        return 'Photo'\n",
    "    elif contains_image and contains_text:\n",
    "        return 'Text-Image'\n",
    "    elif contains_text and not contains_image:\n",
    "        return 'Text'\n",
    "    else:\n",
    "        return 'Unknown'  # In case neither text nor image is found\n",
    "\n",
    "# Test Case\n",
    "\"\"\"\n",
    "The input is a Figma frame (a dictionary containing 'children' nodes), each child may be a TEXT, IMAGE, VECTOR, or RECTANGLE.\n",
    "The function determines the template type of the frame based on its content.\n",
    "Example input: Frame with text only, Frame with image only, Frame with both text and image, Frame with vector or rectangle\n",
    "Expected output: 'Text', 'Photo', 'Text-Image', or 'Unknown' Vectors and rectangles are ignored. \n",
    "\"\"\"\n",
    "\n",
    "# # Example test (uncomment to test)\n",
    "# frame_with_text_only = {\n",
    "#     'children': [\n",
    "#         {'type': 'TEXT', 'characters': 'This is a text'}\n",
    "#     ]\n",
    "# }\n",
    "\n",
    "# frame_with_image_only = {\n",
    "#     'children': [\n",
    "#         {'type': 'IMAGE', 'name': 'image_1'}\n",
    "#     ]\n",
    "# }\n",
    "\n",
    "# frame_with_text_and_image = {\n",
    "#     'children': [\n",
    "#         {'type': 'TEXT', 'characters': 'This is a text'},\n",
    "#         {'type': 'IMAGE', 'name': 'image_1'}\n",
    "#     ]\n",
    "# }\n",
    "\n",
    "# print(f\"Template type for text-only frame: {determine_template_type(frame_with_text_only)}\")  # Expected output: 'Text'\n",
    "# print(f\"Template type for image-only frame: {determine_template_type(frame_with_image_only)}\")  # Expected output: 'Photo'\n",
    "# print(f\"Template type for text and image frame: {determine_template_type(frame_with_text_and_image)}\")  # Expected output: 'Text-Image'\n"
   ]
  },
  {
   "cell_type": "markdown",
   "metadata": {},
   "source": [
    "### Fetch the images and photos from Github"
   ]
  },
  {
   "cell_type": "code",
   "execution_count": 6,
   "metadata": {},
   "outputs": [],
   "source": [
    "# Function to fetch image and graphic URL from GitHub based on image node name\n",
    "def get_image_url(image_name, module_name, extension='.png'):\n",
    "    # Extract the section number to be able to extract graphics\n",
    "    module_number = extract_module_number(module_name)\n",
    "        \n",
    "    # Build URL directly using image name (like image_8 or graph_2)\n",
    "    if image_name.startswith('image_'):\n",
    "        return f'{GITHUB_BASE_URL}Images/{image_name}{extension}'\n",
    "    elif image_name.startswith('graph_'):\n",
    "        return f'{GITHUB_BASE_URL}Graphics/Section%20{module_number}/{image_name}{extension}'\n",
    "    \n",
    "    return None"
   ]
  },
  {
   "cell_type": "markdown",
   "metadata": {},
   "source": [
    "### Process all the frames "
   ]
  },
  {
   "cell_type": "code",
   "execution_count": 7,
   "metadata": {},
   "outputs": [],
   "source": [
    "# Function to process a frame and extract relevant information\n",
    "def process_frame(frame, module_name, chapter_name, lesson_number, column_number, is_module_intro=False):\n",
    "    if 'absoluteBoundingBox' not in frame:\n",
    "        print(f\"Warning: 'absoluteBoundingBox' missing for frame '{frame.get('name', 'Unnamed')}'. Skipping this frame.\")\n",
    "        return None\n",
    "    \n",
    "    template_type = determine_template_type(frame)\n",
    "    \n",
    "    # Initialize an empty list to hold all image URLs for the frame\n",
    "    image_urls = []\n",
    "    \n",
    "    frame_data = {\n",
    "        'Section': module_name,\n",
    "        'Chapter': chapter_name,\n",
    "        'Frame Title': frame['name'],\n",
    "        'Template Type': template_type,\n",
    "        'Column': column_number,\n",
    "        'Text': '',\n",
    "        'x': frame['absoluteBoundingBox']['x'],\n",
    "        'y': frame['absoluteBoundingBox']['y'],\n",
    "        'image_url': image_urls  # Store the list of images\n",
    "    }\n",
    "    \n",
    "    \n",
    "    if not is_module_intro:\n",
    "        # Only add 'Lesson' if it's not part of Module Intro\n",
    "        frame_data['Lesson'] =  lesson_number\n",
    "\n",
    "    # Sort nodes by their position (y-coordinate first, then x-coordinate) to keep the order of more than one image in one frame\n",
    "    sorted_nodes = sorted(frame['children'], key=lambda n: (n.get('absoluteBoundingBox', {}).get('y', 0), n.get('absoluteBoundingBox', {}).get('x', 0)))\n",
    "\n",
    "    for node in sorted_nodes:\n",
    "        if node['type'] == 'TEXT':\n",
    "            font_size = node.get('style', {}).get('fontSize', 14)  # Default to 14 if no fontSize is found\n",
    "            header_tag = determine_header_tag(font_size)\n",
    "            text = node['characters']\n",
    "            frame_data['Text'] += f'<{header_tag}>{text}</{header_tag}>'\n",
    "            \n",
    "            # Consider IMAGE and RECTANGLE nodes for image processing\n",
    "        if node['type'] in ['IMAGE', 'RECTANGLE']:\n",
    "            image_url = get_image_url(node['name'], module_name)\n",
    "#             print(f\"Retrieved image URL: {image_url}\")  # Debugging purposes\n",
    "            if image_url:\n",
    "                image_urls.append(image_url)  # Append the URL to the image_urls list\n",
    "\n",
    "    \n",
    "    return frame_data\n"
   ]
  },
  {
   "cell_type": "markdown",
   "metadata": {},
   "source": [
    "### Extracting lessons "
   ]
  },
  {
   "cell_type": "code",
   "execution_count": 8,
   "metadata": {},
   "outputs": [
    {
     "data": {
      "text/plain": [
       "'\\nThe input is a list of nodes (frames) along with the section name, chapter name, and lesson number.\\nThe function extracts relevant frames and returns a list of processed frames.\\nExample input: A list of frames with text or image content.\\nExpected output: A list of dictionaries representing each processed frame.\\n'"
      ]
     },
     "execution_count": 8,
     "metadata": {},
     "output_type": "execute_result"
    }
   ],
   "source": [
    "# Function to extract frames from lessons\n",
    "def extract_frames(nodes, module_name, chapter_name, lesson_number):\n",
    "    frames = []\n",
    "    column_number = 1  # Track the column within each lesson\n",
    "\n",
    "    for node in nodes:\n",
    "        if node['type'] == 'FRAME':\n",
    "            processed_frame = process_frame(node, module_name, chapter_name, lesson_number, column_number)\n",
    "            if processed_frame:\n",
    "                frames.append(processed_frame)\n",
    "                column_number += 1\n",
    "    \n",
    "    return frames\n",
    "\n",
    "# Test Case\n",
    "\"\"\"\n",
    "The input is a list of nodes (frames) along with the section name, chapter name, and lesson number.\n",
    "The function extracts relevant frames and returns a list of processed frames.\n",
    "Example input: A list of frames with text or image content.\n",
    "Expected output: A list of dictionaries representing each processed frame.\n",
    "\"\"\"\n",
    "\n",
    "# # Example test(uncomment to test)\n",
    "# nodes = [\n",
    "#     {\n",
    "#         'type': 'FRAME',\n",
    "#         'name': 'Frame 1',\n",
    "#         'absoluteBoundingBox': {'x': 100, 'y': 200},\n",
    "#         'children': [{'type': 'TEXT', 'characters': 'This is frame 1 text'}]\n",
    "#     },\n",
    "#     {\n",
    "#         'type': 'FRAME',\n",
    "#         'name': 'Frame 2',\n",
    "#         'absoluteBoundingBox': {'x': 300, 'y': 400},\n",
    "#         'children': [{'type': 'IMAGE', 'name': 'image_1'}]\n",
    "#     }\n",
    "# ]\n",
    "# module_name = \"Module 1\"\n",
    "# chapter_name = \"Chapter 1\"\n",
    "# lesson_number = 1\n",
    "\n",
    "# frames = extract_frames(nodes, module_name, chapter_name, lesson_number)\n",
    "# print(frames)  # Expected output: A list of processed frame dictionaries\n"
   ]
  },
  {
   "cell_type": "markdown",
   "metadata": {},
   "source": [
    "### Assigning some rows as lessons"
   ]
  },
  {
   "cell_type": "code",
   "execution_count": 18,
   "metadata": {},
   "outputs": [
    {
     "data": {
      "text/plain": [
       "\"\\nThe input is a list of frames with y-values and an optional threshold.\\nThe function assigns lesson numbers to frames based on vertical spacing (y-coordinate differences).\\nExample input: A list of frames with valid 'absoluteBoundingBox' values.\\nExpected output: The list of frames, each assigned with a lesson number.\\n\""
      ]
     },
     "execution_count": 18,
     "metadata": {},
     "output_type": "execute_result"
    }
   ],
   "source": [
    "# Updated `assign_lessons_by_row` to accommodate intro and ensure lessons start from 1\n",
    "# Updated `assign_lessons_by_row` and related processing to correctly group intro and lessons\n",
    "\n",
    "def assign_lessons_by_row(frames, y_threshold=500):\n",
    "    \"\"\"\n",
    "    Group frames into rows and assign lesson numbers dynamically.\n",
    "    Ensure the first row (intro) is grouped separately.\n",
    "    \"\"\"\n",
    "    if not frames:\n",
    "        return frames\n",
    "\n",
    "    # Sort frames by y-position first, then x-position\n",
    "    frames.sort(key=lambda f: (f['absoluteBoundingBox']['y'], f['absoluteBoundingBox']['x']))\n",
    "\n",
    "    lessons = []\n",
    "    current_row = []\n",
    "    current_y = frames[0]['absoluteBoundingBox']['y']\n",
    "\n",
    "    for frame in frames:\n",
    "        frame_y = frame['absoluteBoundingBox']['y']\n",
    "\n",
    "        # Check if the frame belongs to the current row or a new one\n",
    "        if abs(frame_y - current_y) > y_threshold:\n",
    "            # Finish the current row and start a new one\n",
    "            lessons.append(current_row)\n",
    "            current_row = []\n",
    "            current_y = frame_y\n",
    "\n",
    "        current_row.append(frame)\n",
    "\n",
    "    # Add the last row\n",
    "    if current_row:\n",
    "        lessons.append(current_row)\n",
    "\n",
    "    return lessons\n",
    "\n",
    "# Test Case\n",
    "\n",
    "\"\"\"\n",
    "The input is a list of frames with y-values and an optional threshold.\n",
    "The function assigns lesson numbers to frames based on vertical spacing (y-coordinate differences).\n",
    "Example input: A list of frames with valid 'absoluteBoundingBox' values.\n",
    "Expected output: The list of frames, each assigned with a lesson number.\n",
    "\"\"\"\n",
    "\n",
    "# # Example test (uncomment to test)\n",
    "# frames = [\n",
    "#     {'absoluteBoundingBox': {'y': 100, 'x': 50}},\n",
    "#     {'absoluteBoundingBox': {'y': 200, 'x': 60}},\n",
    "#     {'absoluteBoundingBox': {'y': 800, 'x': 50}},\n",
    "#     {'absoluteBoundingBox': {'y': 900, 'x': 60}}\n",
    "# ]\n",
    "# y_threshold = 300\n",
    "\n",
    "# assigned_frames = assign_lessons_by_row(frames, y_threshold)\n",
    "\n",
    "# # Output the results of the test\n",
    "# for frame in assigned_frames:\n",
    "#     print(f\"Frame at y={frame['absoluteBoundingBox']['y']} assigned to lesson {frame['Lesson']}\")\n"
   ]
  },
  {
   "cell_type": "markdown",
   "metadata": {},
   "source": [
    "### Creating a Module Intro section"
   ]
  },
  {
   "cell_type": "code",
   "execution_count": 19,
   "metadata": {},
   "outputs": [],
   "source": [
    "# Function to extract frames from the Module Intro section\n",
    "def extract_module_intro(document_children):\n",
    "    module_intro_frames = []\n",
    "    column_number = 1  # Initialize column number for sequence\n",
    "\n",
    "    for canvas_node in document_children:\n",
    "        if canvas_node['type'] == 'CANVAS':\n",
    "            for section_node in canvas_node['children']:\n",
    "                if 'Module Intro' in section_node['name']:\n",
    "                    module_name = section_node['name']\n",
    "                    \n",
    "                    # Extract all frames\n",
    "                    frames = [frame for frame in section_node['children'] if frame['type'] == 'FRAME']\n",
    "                    \n",
    "                    # Sort the frames based on their y (and x for frames with the same y) coordinates\n",
    "                    frames.sort(key=lambda f: (f['absoluteBoundingBox']['y'], f['absoluteBoundingBox']['x']))\n",
    "                    \n",
    "                    # Process each frame inside Module Intro\n",
    "                    for frame in frames:\n",
    "                        processed_frame = process_frame(frame, module_name, \"\", 0, column_number, is_module_intro=True)\n",
    "                        if processed_frame:\n",
    "                            module_intro_frames.append(processed_frame)\n",
    "                            column_number += 1  # Increment the column number based on sequence\n",
    "    \n",
    "    return module_intro_frames\n"
   ]
  },
  {
   "cell_type": "markdown",
   "metadata": {},
   "source": [
    "### Extract Chapters"
   ]
  },
  {
   "cell_type": "code",
   "execution_count": 20,
   "metadata": {},
   "outputs": [
    {
     "data": {
      "text/plain": [
       "\"\\nThe input is a list of document children (Figma nodes). \\nThe function extracts chapters and lessons dynamically based on the structure of nodes and their vertical spacing.\\nExample input: A list of chapters with valid 'children' nodes and their associated frames, each with 'absoluteBoundingBox' values containing both 'x' and 'y'.\\nExpected output: A list of chapters, each containing a list of lessons with associated frames.\\n\""
      ]
     },
     "execution_count": 20,
     "metadata": {},
     "output_type": "execute_result"
    }
   ],
   "source": [
    "# Function to extract only chapters and lessons dynamically based on vertical spacing\n",
    "def extract_chapters_and_lessons(document_children):\n",
    "    chapters = []\n",
    "    \n",
    "    for canvas_node in document_children:\n",
    "        if canvas_node['type'] == 'CANVAS':\n",
    "            # Filter only nodes with 'Chapter' in their name to skip templates or images\n",
    "            chapter_nodes = [\n",
    "                chapter_node for chapter_node in canvas_node['children']\n",
    "                if 'Chapter' in chapter_node['name']\n",
    "            ]\n",
    "            \n",
    "            for chapter_node in chapter_nodes:\n",
    "                chapter_name = chapter_node['name']  # e.g., \"Chapter 1\"\n",
    "                all_frames = [\n",
    "                    frame for frame in chapter_node['children']\n",
    "                    if frame['type'] == 'FRAME' and not frame['name'].startswith('Vector')\n",
    "                ]\n",
    "\n",
    "                # Assign lessons based on vertical spacing\n",
    "                frames_with_lessons = assign_lessons_by_row(all_frames, y_threshold=500)\n",
    "\n",
    "                # Group frames by their lesson number\n",
    "                lessons = []\n",
    "                current_lesson = []\n",
    "                current_lesson_number = frames_with_lessons[0]['Lesson']\n",
    "\n",
    "                for frame in frames_with_lessons:\n",
    "                    if frame['Lesson'] != current_lesson_number:\n",
    "                        lessons.append(current_lesson)\n",
    "                        current_lesson = []\n",
    "                        current_lesson_number = frame['Lesson']\n",
    "\n",
    "                    current_lesson.append(frame)\n",
    "\n",
    "                # Append the last lesson if any\n",
    "                if current_lesson:\n",
    "                    lessons.append(current_lesson)\n",
    "\n",
    "                # Add chapter and its associated lessons to the list\n",
    "                chapters.append({\n",
    "                    'chapter_name': chapter_name,\n",
    "                    'lessons': lessons\n",
    "                })\n",
    "\n",
    "    return chapters\n",
    "\n",
    "\n",
    "# Test Case\n",
    "\"\"\"\n",
    "The input is a list of document children (Figma nodes). \n",
    "The function extracts chapters and lessons dynamically based on the structure of nodes and their vertical spacing.\n",
    "Example input: A list of chapters with valid 'children' nodes and their associated frames, each with 'absoluteBoundingBox' values containing both 'x' and 'y'.\n",
    "Expected output: A list of chapters, each containing a list of lessons with associated frames.\n",
    "\"\"\"\n",
    "\n",
    "# # Example testn(uncomment to test)\n",
    "# document_children = [\n",
    "#     {\n",
    "#         'type': 'CANVAS',\n",
    "#         'children': [\n",
    "#             {\n",
    "#                 'type': 'FRAME',\n",
    "#                 'name': 'Chapter 1',\n",
    "#                 'children': [\n",
    "#                     {'type': 'FRAME', 'absoluteBoundingBox': {'y': 100, 'x': 50}, 'name': 'Frame 1'},\n",
    "#                     {'type': 'FRAME', 'absoluteBoundingBox': {'y': 300, 'x': 60}, 'name': 'Frame 2'},\n",
    "#                     {'type': 'FRAME', 'absoluteBoundingBox': {'y': 900, 'x': 50}, 'name': 'Frame 3'}\n",
    "#                 ]\n",
    "#             },\n",
    "#             {\n",
    "#                 'type': 'FRAME',\n",
    "#                 'name': 'Chapter 2',\n",
    "#                 'children': [\n",
    "#                     {'type': 'FRAME', 'absoluteBoundingBox': {'y': 100, 'x': 40}, 'name': 'Frame 1'},\n",
    "#                     {'type': 'FRAME', 'absoluteBoundingBox': {'y': 400, 'x': 70}, 'name': 'Frame 2'}\n",
    "#                 ]\n",
    "#             }\n",
    "#         ]\n",
    "#     }\n",
    "# ]\n",
    "\n",
    "# # Run the extract_chapters_and_lessons function with the test case\n",
    "# chapters = extract_chapters_and_lessons(document_children)\n",
    "\n",
    "# # Output the results of the test\n",
    "# for chapter in chapters:\n",
    "#     print(f\"Chapter: {chapter['chapter_name']}\")\n",
    "#     for i, lesson in enumerate(chapter['lessons'], start=1):\n",
    "#         print(f\"  Lesson {i}: {[frame['name'] for frame in lesson]}\")\n"
   ]
  },
  {
   "cell_type": "markdown",
   "metadata": {},
   "source": [
    "### Save result in a .CSV file"
   ]
  },
  {
   "cell_type": "code",
   "execution_count": 21,
   "metadata": {},
   "outputs": [
    {
     "data": {
      "text/plain": [
       "\"\\nThe input is a list of frames with data, along with section name, chapter name, lesson number, and a filename.\\nThe function saves the data to a CSV file.\\nExample input: List of frames with 'x' and 'y' positions and other relevant data.\\nExpected output: The frames are sorted and written to a CSV file.\\n\""
      ]
     },
     "execution_count": 21,
     "metadata": {},
     "output_type": "execute_result"
    }
   ],
   "source": [
    "# Function to save the frames data to CSV files\n",
    "def save_to_csv(frames, module_name, chapter_name, filename, is_module_intro=False):\n",
    "    frames_with_y = [frame for frame in frames if 'y' in frame]\n",
    "    frames_without_y = [frame for frame in frames if 'y' not in frame]\n",
    "    frames_with_y.sort(key=lambda frame: frame['y'])\n",
    "    sorted_frames = frames_with_y + frames_without_y\n",
    "\n",
    "    for i, frame in enumerate(sorted_frames):\n",
    "        frame['Column'] = i + 1  # Assign the correct column number based on sequence\n",
    "        frame.pop('x', None)\n",
    "        frame.pop('y', None)\n",
    "\n",
    "        if is_module_intro:\n",
    "            frame.pop('Lesson', None)  # Remove 'Lesson' column for Module Intro\n",
    "            frame.pop('Chapter', None)  # Remove 'Chapter' column for Module Intro\n",
    "\n",
    "    if is_module_intro:\n",
    "        folder = os.path.join('..', '01_Results', module_name, 'Module_Intro')\n",
    "    else:\n",
    "        folder = os.path.join('..', '01_Results', module_name, chapter_name)\n",
    "\n",
    "    os.makedirs(folder, exist_ok=True)\n",
    "\n",
    "    csv_path = os.path.join(folder, filename)\n",
    "    \n",
    "    with open(csv_path, 'w', newline='', encoding='utf-8') as csv_file:\n",
    "        fieldnames = ['Section', 'Frame Title', 'Template Type', 'Column', 'Text', 'image_url']\n",
    "        if not is_module_intro:\n",
    "            fieldnames.insert(1, 'Lesson')  # Include 'Lesson' if it's not for Module Intro\n",
    "            fieldnames.insert(2, 'Chapter')  # Include 'Chapter' if it's not for Module Intro\n",
    "\n",
    "        writer = csv.DictWriter(csv_file, fieldnames=fieldnames)\n",
    "        writer.writeheader()\n",
    "        for frame in sorted_frames:\n",
    "            writer.writerow(frame)\n",
    "\n",
    "\n",
    "# Test Case\n",
    "\"\"\"\n",
    "The input is a list of frames with data, along with section name, chapter name, lesson number, and a filename.\n",
    "The function saves the data to a CSV file.\n",
    "Example input: List of frames with 'x' and 'y' positions and other relevant data.\n",
    "Expected output: The frames are sorted and written to a CSV file.\n",
    "\"\"\"\n",
    "\n",
    "# # Example test\n",
    "# frames = [\n",
    "#     {'Frame Title': 'Frame 1', 'Template Type': 'Text', 'Text': 'This is Frame 1', 'y': 300, 'x': 100, 'image_url': None},\n",
    "#     {'Frame Title': 'Frame 2', 'Template Type': 'Text-Image', 'Text': 'This is Frame 2', 'y': 100, 'x': 200, 'image_url': 'https://example.com/image.png'}\n",
    "# ]\n",
    "\n",
    "# module_name = \"Module 1\"\n",
    "# chapter_name = \"Chapter 1\"\n",
    "# lesson_number = 1\n",
    "# filename = \"lesson_1.csv\"\n",
    "# # (uncomment to test)\n",
    "# # save_to_csv(frames, module_name, chapter_name, lesson_number, filename)\n",
    "# # print(f\"CSV file for {module_name}, {chapter_name} is saved as '{filename}' in Results folder\")"
   ]
  },
  {
   "cell_type": "markdown",
   "metadata": {},
   "source": [
    "### Save results in a Json file"
   ]
  },
  {
   "cell_type": "code",
   "execution_count": 22,
   "metadata": {},
   "outputs": [
    {
     "data": {
      "text/plain": [
       "\"\\nThe input is a list of frames with data, along with section name, chapter name, lesson number, and a filename.\\nThe function saves the data to a JSON file.\\nExample input: List of frames with 'x' and 'y' positions and other relevant data.\\nExpected output: The frames are sorted and written to a JSON file.\\n\""
      ]
     },
     "execution_count": 22,
     "metadata": {},
     "output_type": "execute_result"
    }
   ],
   "source": [
    "# Function to save the frames data to JSON files\n",
    "def save_to_json(frames, module_name, chapter_name, filename, is_module_intro=False):\n",
    "    frames_with_y = [frame for frame in frames if 'y' in frame]\n",
    "    frames_without_y = [frame for frame in frames if 'y' not in frame]\n",
    "    frames_with_y.sort(key=lambda frame: frame['y'])\n",
    "    sorted_frames = frames_with_y + frames_without_y\n",
    "\n",
    "    for i, frame in enumerate(sorted_frames):\n",
    "        frame['Column'] = i + 1\n",
    "        frame.pop('x', None)\n",
    "        frame.pop('y', None)\n",
    "\n",
    "        if is_module_intro:\n",
    "            frame.pop('Lesson', None)  # Remove 'Lesson' for Module Intro\n",
    "            frame.pop('Chapter', None)  # Remove 'Chapter' column for Module Intro\n",
    "            \n",
    "\n",
    "    if is_module_intro:\n",
    "        folder = os.path.join('..', '00_API', module_name,'Module_Intro')\n",
    "    else:\n",
    "        folder = os.path.join('..', '00_API', module_name, chapter_name)\n",
    "\n",
    "    os.makedirs(folder, exist_ok=True)\n",
    "    \n",
    "    json_path = os.path.join(folder, filename)\n",
    "    \n",
    "    with open(json_path, 'w', encoding='utf-8') as json_file:\n",
    "        json.dump(sorted_frames, json_file, indent=4, ensure_ascii=False)\n",
    "        \n",
    "        \n",
    "# Test Case\n",
    "\"\"\"\n",
    "The input is a list of frames with data, along with section name, chapter name, lesson number, and a filename.\n",
    "The function saves the data to a JSON file.\n",
    "Example input: List of frames with 'x' and 'y' positions and other relevant data.\n",
    "Expected output: The frames are sorted and written to a JSON file.\n",
    "\"\"\"\n",
    "\n",
    "# # Example test (uncomment to test)\n",
    "# filename_json = \"lesson_1.json\"\n",
    "# save_to_json(frames, module_name, chapter_name, lesson_number, filename_json)\n",
    "# print(f\"JSON file for {module_name}, {chapter_name} is saved as '{filename_json} in API folder'\")"
   ]
  },
  {
   "cell_type": "markdown",
   "metadata": {},
   "source": [
    "### Process Multiple files sequentially"
   ]
  },
  {
   "cell_type": "code",
   "execution_count": 23,
   "metadata": {},
   "outputs": [
    {
     "data": {
      "text/plain": [
       "'\\nThe function fetches data from the Figma API using the provided file key and handles retries in case of failure or rate limit hits.\\nExample input: A Figma file key.\\nExpected output: The function returns the file data when successful, retries on rate limit hit, or handles failure gracefully.\\n'"
      ]
     },
     "execution_count": 23,
     "metadata": {},
     "output_type": "execute_result"
    }
   ],
   "source": [
    "# Fuction to fecth data adding delay and retry logic for handling rate limits and avoiding timeouts\n",
    "def fetch_file_data(file_key):\n",
    "    max_retries = 5\n",
    "    retry_count = 0\n",
    "    delay_between_retries = 10  # Delay of 10 seconds between retries\n",
    "\n",
    "    while retry_count < max_retries:\n",
    "        response = requests.get(FIGMA_API_URL_TEMPLATE.format(file_key), headers=headers)\n",
    "        \n",
    "        if response.status_code == 200:\n",
    "            # If the request is successful, return the data\n",
    "            return response.json()\n",
    "        \n",
    "        elif response.status_code == 429:  # Rate limit hit\n",
    "            print(\"Rate limit hit. Waiting for rate limit reset...\")\n",
    "            retry_after = int(response.headers.get('Retry-After', delay_between_retries))\n",
    "            time.sleep(retry_after)\n",
    "            retry_count += 1\n",
    "        \n",
    "        else:\n",
    "            print(f\"Error: Failed to fetch data for file key {file_key}. Status code: {response.status_code}\")\n",
    "            retry_count += 1\n",
    "            time.sleep(delay_between_retries)\n",
    "\n",
    "    print(f\"Max retries reached for file {file_key}. Skipping...\")\n",
    "    return None\n",
    "\n",
    "\n",
    "# Test Case \n",
    "\n",
    "from unittest.mock import patch\n",
    "\"\"\"\n",
    "The function fetches data from the Figma API using the provided file key and handles retries in case of failure or rate limit hits.\n",
    "Example input: A Figma file key.\n",
    "Expected output: The function returns the file data when successful, retries on rate limit hit, or handles failure gracefully.\n",
    "\"\"\"\n",
    "\n",
    "# Example test  (uncomment to test)\n",
    "\n",
    "# # add real file key and token to test\n",
    "# file_key = \"example_file_key\"\n",
    "# FIGMA_API_URL_TEMPLATE = 'https://api.figma.com/v1/files/{}'\n",
    "# headers = {'X-Figma-Token': 'add_token'}\n",
    "\n",
    "# # Mocking requests.get to simulate different responses - Uncomment to test it \n",
    "# @patch('requests.get')\n",
    "# def test_fetch_file_data(mock_get):\n",
    "#     # Simulate a successful API response\n",
    "#     mock_get.return_value.status_code = 200\n",
    "#     mock_get.return_value.json.return_value = {'name': 'Test Figma File'}\n",
    "\n",
    "#     data = fetch_file_data(file_key)\n",
    "#     assert data == {'name': 'Test Figma File'}, \"Test failed for successful fetch.\"\n",
    "#     print(\"Test passed for successful fetch.\")\n",
    "\n",
    "#     # Simulate rate limit hit (status 429)\n",
    "#     mock_get.return_value.status_code = 429\n",
    "#     mock_get.return_value.headers = {'Retry-After': '1'}  # 1 second delay\n",
    "\n",
    "#     data = fetch_file_data(file_key)\n",
    "#     assert data is None, \"Test failed for rate limit handling.\"\n",
    "#     print(\"Test passed for rate limit handling.\")\n",
    "\n",
    "#     # Simulate a general failure (status 500)\n",
    "#     mock_get.return_value.status_code = 500\n",
    "\n",
    "#     data = fetch_file_data(file_key)\n",
    "#     assert data is None, \"Test failed for general failure.\"\n",
    "#     print(\"Test passed for general failure.\")\n",
    "\n",
    "# # Run the test\n",
    "# test_fetch_file_data()\n"
   ]
  },
  {
   "cell_type": "markdown",
   "metadata": {},
   "source": [
    "<h2> Main Processing Function </h2>"
   ]
  },
  {
   "cell_type": "code",
   "execution_count": 24,
   "metadata": {},
   "outputs": [],
   "source": [
    "file_keys = ['XN57QSSgnI4exbB2OTK1QM']   # you can add multiple files"
   ]
  },
  {
   "cell_type": "code",
   "execution_count": 25,
   "metadata": {
    "scrolled": true
   },
   "outputs": [],
   "source": [
    "def process_figma_files(file_keys):\n",
    "    for file_key in file_keys:\n",
    "        file_data = fetch_file_data(file_key)\n",
    "        if file_data and 'name' in file_data:\n",
    "            file_name = file_data['name']\n",
    "            print(f\"Processing Module {file_name}\")\n",
    "        else:\n",
    "            print(f\"Error: Could not retrieve file name for file key: {file_key}\")\n",
    "            continue\n",
    "\n",
    "        if file_data and 'document' in file_data:\n",
    "            document_children = file_data['document']['children']\n",
    "\n",
    "            # Extract all frames and group them by rows\n",
    "            all_frames = [\n",
    "                frame for canvas in document_children if canvas['type'] == 'CANVAS'\n",
    "                for frame in canvas['children'] if frame['type'] == 'FRAME'\n",
    "            ]\n",
    "            grouped_frames = assign_lessons_by_row(all_frames)\n",
    "\n",
    "            # Process the intro (first row)\n",
    "            intro_frames = grouped_frames[0]\n",
    "            for frame in intro_frames:\n",
    "                frame.pop(\"Lesson\", None)  # Ensure no \"Lesson\" key for intro\n",
    "            save_to_csv(intro_frames, file_name, \"Chapter_Intro\", \"intro.csv\", is_module_intro=True)\n",
    "            save_to_json(intro_frames, file_name, \"Chapter_Intro\", \"intro.json\", is_module_intro=True)\n",
    "            print(\"Intro saved as intro.csv and intro.json\")\n",
    "\n",
    "            # Process lessons (subsequent rows)\n",
    "            for lesson_number, lesson_frames in enumerate(grouped_frames[1:], start=1):\n",
    "                for frame in lesson_frames:\n",
    "                    frame[\"Lesson\"] = lesson_number  # Assign correct lesson number\n",
    "                save_to_csv(lesson_frames, file_name, f\"Lesson_{lesson_number}\", f\"Lesson_{lesson_number}.csv\")\n",
    "                save_to_json(lesson_frames, file_name, f\"Lesson_{lesson_number}\", f\"Lesson_{lesson_number}.json\")\n",
    "                print(f\"Lesson {lesson_number} saved as Lesson_{lesson_number}.csv and Lesson_{lesson_number}.json\")\n",
    "\n",
    "        else:\n",
    "            print(f\"Error: 'document' key not found in file {file_key}.\")\n",
    "\n",
    "# This update ensures:\n",
    "# 1. All intro frames are grouped together (first row) and saved as `intro.json/csv`.\n",
    "# 2. Lessons start from the second row and are numbered sequentially.\n",
    "# 3. The \"Lesson\" key is removed from intro frames but assigned to lesson frames. \n",
    "\n",
    "# Let me know if further refinements are needed!\n"
   ]
  },
  {
   "cell_type": "code",
   "execution_count": null,
   "metadata": {
    "scrolled": true
   },
   "outputs": [],
   "source": [
    "# the main function with the list of file keys\n",
    "process_figma_files(file_keys)"
   ]
  },
  {
   "cell_type": "code",
   "execution_count": null,
   "metadata": {
    "scrolled": true
   },
   "outputs": [],
   "source": []
  },
  {
   "cell_type": "code",
   "execution_count": null,
   "metadata": {},
   "outputs": [],
   "source": []
  },
  {
   "cell_type": "code",
   "execution_count": null,
   "metadata": {},
   "outputs": [],
   "source": []
  },
  {
   "cell_type": "code",
   "execution_count": null,
   "metadata": {},
   "outputs": [],
   "source": []
  },
  {
   "cell_type": "code",
   "execution_count": null,
   "metadata": {},
   "outputs": [],
   "source": []
  },
  {
   "cell_type": "code",
   "execution_count": null,
   "metadata": {},
   "outputs": [],
   "source": []
  },
  {
   "cell_type": "code",
   "execution_count": null,
   "metadata": {},
   "outputs": [],
   "source": []
  },
  {
   "cell_type": "code",
   "execution_count": null,
   "metadata": {},
   "outputs": [],
   "source": []
  },
  {
   "cell_type": "code",
   "execution_count": null,
   "metadata": {},
   "outputs": [],
   "source": []
  },
  {
   "cell_type": "code",
   "execution_count": null,
   "metadata": {},
   "outputs": [],
   "source": []
  },
  {
   "cell_type": "code",
   "execution_count": null,
   "metadata": {},
   "outputs": [],
   "source": []
  }
 ],
 "metadata": {
  "kernelspec": {
   "display_name": "Python 3 (ipykernel)",
   "language": "python",
   "name": "python3"
  },
  "language_info": {
   "codemirror_mode": {
    "name": "ipython",
    "version": 3
   },
   "file_extension": ".py",
   "mimetype": "text/x-python",
   "name": "python",
   "nbconvert_exporter": "python",
   "pygments_lexer": "ipython3",
   "version": "3.9.18"
  }
 },
 "nbformat": 4,
 "nbformat_minor": 2
}
